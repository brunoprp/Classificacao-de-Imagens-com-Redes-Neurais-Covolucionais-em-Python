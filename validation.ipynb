{
 "cells": [
  {
   "cell_type": "code",
   "execution_count": 1,
   "metadata": {},
   "outputs": [
    {
     "name": "stderr",
     "output_type": "stream",
     "text": [
      "Using TensorFlow backend.\n"
     ]
    }
   ],
   "source": [
    "\n",
    "from sklearn.metrics import accuracy_score, classification_report \n",
    "import numpy as np\n",
    "from keras.models import load_model\n",
    "import image_processing #import the image processing script\n"
   ]
  },
  {
   "cell_type": "code",
   "execution_count": 2,
   "metadata": {},
   "outputs": [
    {
     "name": "stderr",
     "output_type": "stream",
     "text": [
      "100%|██████████| 121/121 [00:01<00:00, 65.02it/s]\n"
     ]
    }
   ],
   "source": [
    "dire_val = 'data/val/' #validation diretory\n",
    "sizeImg = 200 #image dimension\n",
    "images = image_processing.ImageProcessing() #Instantiating an object from class (ImageProcessing)\n",
    "x_val, y_val = images.loadImages(dire_val,sizeImg)\n",
    "\n"
   ]
  },
  {
   "cell_type": "code",
   "execution_count": 3,
   "metadata": {},
   "outputs": [
    {
     "name": "stderr",
     "output_type": "stream",
     "text": [
      "WARNING: Logging before flag parsing goes to stderr.\n",
      "W0920 15:26:59.948788 140330602563392 deprecation_wrapper.py:119] From /home/bruno/anaconda3/lib/python3.6/site-packages/keras/backend/tensorflow_backend.py:517: The name tf.placeholder is deprecated. Please use tf.compat.v1.placeholder instead.\n",
      "\n",
      "W0920 15:26:59.964744 140330602563392 deprecation_wrapper.py:119] From /home/bruno/anaconda3/lib/python3.6/site-packages/keras/backend/tensorflow_backend.py:4138: The name tf.random_uniform is deprecated. Please use tf.random.uniform instead.\n",
      "\n",
      "W0920 15:27:00.101123 140330602563392 deprecation_wrapper.py:119] From /home/bruno/anaconda3/lib/python3.6/site-packages/keras/backend/tensorflow_backend.py:174: The name tf.get_default_session is deprecated. Please use tf.compat.v1.get_default_session instead.\n",
      "\n",
      "W0920 15:27:00.102208 140330602563392 deprecation_wrapper.py:119] From /home/bruno/anaconda3/lib/python3.6/site-packages/keras/backend/tensorflow_backend.py:181: The name tf.ConfigProto is deprecated. Please use tf.compat.v1.ConfigProto instead.\n",
      "\n",
      "W0920 15:27:00.102997 140330602563392 deprecation_wrapper.py:119] From /home/bruno/anaconda3/lib/python3.6/site-packages/keras/backend/tensorflow_backend.py:186: The name tf.Session is deprecated. Please use tf.compat.v1.Session instead.\n",
      "\n"
     ]
    }
   ],
   "source": [
    "model_path = 'model.h5'\n",
    "model = load_model(model_path, compile=False)"
   ]
  },
  {
   "cell_type": "code",
   "execution_count": 4,
   "metadata": {},
   "outputs": [
    {
     "name": "stdout",
     "output_type": "stream",
     "text": [
      "              precision    recall  f1-score   support\n",
      "\n",
      "           0       0.96      0.92      0.94        60\n",
      "           1       0.92      0.97      0.94        60\n",
      "\n",
      "    accuracy                           0.94       120\n",
      "   macro avg       0.94      0.94      0.94       120\n",
      "weighted avg       0.94      0.94      0.94       120\n",
      "\n",
      "0.9416666666666667\n"
     ]
    }
   ],
   "source": [
    "yhat_probs = model.predict(x_val, verbose=0)\n",
    "yhat_classes = np.argmax(yhat_probs,axis=1)\n",
    "y = np.argmax(y_val,axis=1)\n",
    "accuracy = accuracy_score(y , yhat_classes)\n",
    "print(classification_report(y_val.argmax(axis=1), yhat_probs.argmax(axis=1)))\n",
    "print(accuracy)"
   ]
  }
 ],
 "metadata": {
  "kernelspec": {
   "display_name": "Python 3",
   "language": "python",
   "name": "python3"
  },
  "language_info": {
   "codemirror_mode": {
    "name": "ipython",
    "version": 3
   },
   "file_extension": ".py",
   "mimetype": "text/x-python",
   "name": "python",
   "nbconvert_exporter": "python",
   "pygments_lexer": "ipython3",
   "version": "3.6.6"
  }
 },
 "nbformat": 4,
 "nbformat_minor": 2
}
