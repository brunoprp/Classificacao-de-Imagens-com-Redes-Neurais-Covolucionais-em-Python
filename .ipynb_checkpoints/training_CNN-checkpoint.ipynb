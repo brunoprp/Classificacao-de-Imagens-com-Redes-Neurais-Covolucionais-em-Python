{
 "cells": [
  {
   "cell_type": "code",
   "execution_count": null,
   "metadata": {},
   "outputs": [],
   "source": [
    "import image_processing #import the image processing script\n",
    "\n",
    "dire_train = 'data/train/' #trainig diretory\n",
    "dire_test = 'data/test/' #test diretory"
   ]
  },
  {
   "cell_type": "markdown",
   "metadata": {},
   "source": [
    "# Reading the test and training images!"
   ]
  },
  {
   "cell_type": "code",
   "execution_count": null,
   "metadata": {},
   "outputs": [],
   "source": [
    "sizeImg = 200 #image dimension\n",
    "images = image_processing.ImageProcessing() #Instantiating an object from class (ImageProcessing)\n",
    "\n",
    "x_train, y_train = images.loadImages(dire_train,sizeImg) #Trainig image processing \n",
    "x_test, y_test = images.loadImages(dire_test,sizeImg) #Test imge processing"
   ]
  },
  {
   "cell_type": "markdown",
   "metadata": {},
   "source": [
    "# Creating the model of convolutional neural network"
   ]
  },
  {
   "cell_type": "code",
   "execution_count": null,
   "metadata": {},
   "outputs": [],
   "source": [
    "\"\"\"Importing the Keras library for model building\"\"\"\n",
    "from keras.models import Sequential\n",
    "from keras.layers import Dense, Conv2D, Flatten\n",
    "from keras.callbacks import ModelCheckpoint\n",
    "from keras.preprocessing.image import ImageDataGenerator\n",
    "from keras.optimizers import Adam"
   ]
  },
  {
   "cell_type": "code",
   "execution_count": null,
   "metadata": {},
   "outputs": [],
   "source": [
    "\"\"\"Setting Network Hyperparameters\"\"\"\n",
    "EPOCHS = 20 #Epocha number\n",
    "INIT_LR = 1e-3 #Learning rate\n",
    "BS = 40 # batch size, amount of images that will pass through the network in each season\n",
    "opt = Adam(lr=INIT_LR, decay=INIT_LR / 100) #optimizer"
   ]
  },
  {
   "cell_type": "code",
   "execution_count": null,
   "metadata": {},
   "outputs": [],
   "source": [
    "model = Sequential() # Sequential model keras\n",
    "#add model layers\n",
    "\"\"\"Convolutional layers\"\"\"\n",
    "model.add(Conv2D(64, kernel_size = 3, activation = 'relu', input_shape=(sizeImg,sizeImg,1))) #\n",
    "model.add(Conv2D(32, kernel_size = 3, activation = 'relu'))\n",
    "model.add(Conv2D(16, kernel_size = 3, activation = 'relu'))\n",
    "model.add(Flatten())\n",
    "\"\"\"Dense layers\"\"\"\n",
    "model.add(Dense(16, activation='relu'))\n",
    "model.add(Dense(8, activation='relu'))\n",
    "model.add(Dense(2, activation='softmax'))# the last layer must have the same number of classes\n",
    "model.compile(optimizer = opt, loss='categorical_crossentropy',metrics=['accuracy']) #Compiling the model by defining the optimizer the loss function and the evaluation metric\n",
    "model.summary()#Print CNN architecture "
   ]
  },
  {
   "cell_type": "markdown",
   "metadata": {},
   "source": [
    "# Training CNN"
   ]
  },
  {
   "cell_type": "code",
   "execution_count": null,
   "metadata": {},
   "outputs": [],
   "source": [
    "\"\"\"Save model treined\"\"\"\n",
    "filepath='model.h5'#name model save\n",
    "checkpoint = ModelCheckpoint(filepath, monitor='val_acc', verbose=1, save_best_only=True, mode='max')#salve best model\n",
    "callbacks_list = [checkpoint]\n",
    "\n",
    "\"\"\"here a keras technique is used to improve training accuracy, the images are molded for the network to learn better\"\"\"\n",
    "aug = ImageDataGenerator(rotation_range=25, width_shift_range=0.1,\n",
    "    height_shift_range=0.1, shear_range=0.2, zoom_range=0.2,\n",
    "    horizontal_flip=True, fill_mode=\"nearest\")\n",
    "\n",
    "\"\"\"CNN trained by passing training and test data jutamnete with hyperparameters\"\"\"\n",
    "history = model.fit_generator(\n",
    "    aug.flow(x_train, y_train, batch_size=BS),\n",
    "    validation_data=(x_test, y_test),\n",
    "    steps_per_epoch=len(x_train) // BS,\n",
    "    epochs=EPOCHS, verbose=1, callbacks = callbacks_list)"
   ]
  }
 ],
 "metadata": {
  "kernelspec": {
   "display_name": "Python 3",
   "language": "python",
   "name": "python3"
  },
  "language_info": {
   "codemirror_mode": {
    "name": "ipython",
    "version": 3
   },
   "file_extension": ".py",
   "mimetype": "text/x-python",
   "name": "python",
   "nbconvert_exporter": "python",
   "pygments_lexer": "ipython3",
   "version": "3.6.6"
  }
 },
 "nbformat": 4,
 "nbformat_minor": 2
}
