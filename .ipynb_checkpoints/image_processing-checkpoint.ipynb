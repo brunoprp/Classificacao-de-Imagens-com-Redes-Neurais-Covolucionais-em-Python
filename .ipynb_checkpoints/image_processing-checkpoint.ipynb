{
 "cells": [
  {
   "cell_type": "code",
   "execution_count": null,
   "metadata": {
    "slideshow": {
     "slide_type": "-"
    }
   },
   "outputs": [],
   "source": [
    "import os #Read directories\n",
    "import cv2 #Read the pictures\n",
    "from tqdm import tqdm #Graphically show the progress of the 'FOR'\n",
    "import random #Randomize the images\n",
    "import numpy as np #Array work\n",
    "import keras #Format the arrays"
   ]
  },
  {
   "cell_type": "markdown",
   "metadata": {},
   "source": [
    "# Creating a class to load and process images!"
   ]
  },
  {
   "cell_type": "code",
   "execution_count": null,
   "metadata": {},
   "outputs": [],
   "source": [
    "class ImageProcessing():\n",
    "    def __init__(self): #creating builder \n",
    "        self.images = []\n",
    "        self.classe = []\n",
    "\n",
    "\n",
    "    def loadImages(self, diretory, sizeImg, channels = 0):#receive the directory the images the size they will be read and number of channels\n",
    "        \"\"\"  Load Imges  \"\"\"\n",
    "        direImages = os.listdir(diretory)#list everything in the directory\n",
    "        direImages = random.sample(direImages, len(direImages))#Randomize images within directory\n",
    "        for i in tqdm(direImages):#go through the directory\n",
    "            if i != '.DS_Store':#ignore not image file inside directory\n",
    "                name = i.split('_')[0]#capture image name (Normal or Pneumonia)\n",
    "                img = cv2.imread(diretory+i, channels)#Load image\n",
    "                img = cv2.resize(img,(sizeImg,sizeImg))# resize images\n",
    "                img = img.astype('float32')/255 #Normalize image values\n",
    "                #If the image name is normal the class is 0 if not the class is 1\n",
    "                if name == 'normal': \n",
    "                    self.images.append(img)\n",
    "                    self.classe.append(0)\n",
    "                else:\n",
    "                    self.images.append(img)\n",
    "                    self.classe.append(1)\n",
    "        images =  np.array(self.images)#Array numpy\n",
    "        classe = np.array(self.classe)#Array numpy\n",
    "\n",
    "        images = images.reshape(images.shape[0], sizeImg,sizeImg,1)#CNN input format (x,sizeImge,sizeImge,channels)\n",
    "        classe = keras.utils.to_categorical(classe,2)#CNN input format class\n",
    "\n",
    "        return images,classe #ruturn images and class"
   ]
  }
 ],
 "metadata": {
  "kernelspec": {
   "display_name": "Python 3",
   "language": "python",
   "name": "python3"
  },
  "language_info": {
   "codemirror_mode": {
    "name": "ipython",
    "version": 3
   },
   "file_extension": ".py",
   "mimetype": "text/x-python",
   "name": "python",
   "nbconvert_exporter": "python",
   "pygments_lexer": "ipython3",
   "version": "3.6.6"
  }
 },
 "nbformat": 4,
 "nbformat_minor": 2
}
